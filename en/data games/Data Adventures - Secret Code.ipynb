{
 "cells": [
  {
   "cell_type": "markdown",
   "metadata": {},
   "source": [
    "<!-- ---------------------------------------------------- -->\n",
    "  <div class=\"col-sm-3 col-md-3 col-lg-3\">\n",
    "\t<!-- logo -->  \n",
    "    <div class=\"img-responsive\">\n",
    "      <img src=\"https://www.dropbox.com/s/220ncn0o5danuey/pandas-ipython-tutorials-hedaro.jpg?dl=1\" title=\"Pandas Tutorial | Hedaro\" alt=\"Pandas Tutorial | Hedaro\">    \n",
    "    </div>\n",
    "\t<!-- logo -->\t\n",
    "  </div>\n",
    "<!-- ---------------------------------------------------- --> \n",
    "  <div class=\"col-sm-6 col-md-6 col-lg-6\">\n",
    "\t<!-- Pandas Tutorial -->  \n",
    "\t  <center>\n",
    "\t    <br>\n",
    "        <h1>Data Adventures - Secret Code</h1>\n",
    "        <br>\n",
    "        <br>\n",
    "        The notebook below <strong>contains errors</strong> and is <strong>missing code</strong>. Your task is to fix any errors you see and write any additional code necessary to reveal the Secret Code. <strong>Good Luck!</strong>\n",
    "\t  </center>\t\n",
    "    <!-- Pandas Tutorial -->\t\n",
    "  </div>\n",
    "<!-- ---------------------------------------------------- -->"
   ]
  },
  {
   "cell_type": "code",
   "execution_count": 2,
   "metadata": {},
   "outputs": [],
   "source": [
    "# import libraries\n",
    "import pandas as pd\n",
    "import numpy as np"
   ]
  },
  {
   "cell_type": "markdown",
   "metadata": {},
   "source": [
    "> get random data for dataset 1"
   ]
  },
  {
   "cell_type": "code",
   "execution_count": 5,
   "metadata": {},
   "outputs": [
    {
     "name": "stdout",
     "output_type": "stream",
     "text": [
      "Hello\n"
     ]
    }
   ],
   "source": [
    "print(\"Hello\")"
   ]
  },
  {
   "cell_type": "code",
   "execution_count": 4,
   "metadata": {},
   "outputs": [
    {
     "ename": "NameError",
     "evalue": "name 'rand' is not defined",
     "output_type": "error",
     "traceback": [
      "\u001b[0;31m---------------------------------------------------------------------------\u001b[0m",
      "\u001b[0;31mNameError\u001b[0m                                 Traceback (most recent call last)",
      "Input \u001b[0;32mIn [4]\u001b[0m, in \u001b[0;36m<cell line: 2>\u001b[0;34m()\u001b[0m\n\u001b[1;32m      1\u001b[0m \u001b[38;5;66;03m# set seed\u001b[39;00m\n\u001b[0;32m----> 2\u001b[0m \u001b[43mrand\u001b[49m\u001b[38;5;241m.\u001b[39mseed(\u001b[38;5;241m501\u001b[39m)\n\u001b[1;32m      4\u001b[0m \u001b[38;5;66;03m# pick random numbers between 0 and 9\u001b[39;00m\n\u001b[1;32m      5\u001b[0m d1 \u001b[38;5;241m=\u001b[39m [random\u001b[38;5;241m.\u001b[39mrandint(low\u001b[38;5;241m=\u001b[39m\u001b[38;5;241m0\u001b[39m,high\u001b[38;5;241m=\u001b[39m\u001b[38;5;241m10\u001b[39m) \u001b[38;5;28;01mfor\u001b[39;00m i \u001b[38;5;129;01min\u001b[39;00m \u001b[38;5;28mrange\u001b[39m(\u001b[38;5;241m9\u001b[39m)]\n",
      "\u001b[0;31mNameError\u001b[0m: name 'rand' is not defined"
     ]
    }
   ],
   "source": [
    "# set seed\n",
    "rand.seed(501)\n",
    "\n",
    "# pick random numbers between 0 and 9\n",
    "d1 = [random.randint(low=0,high=10) for i in range(9)]\n",
    "\n",
    "# print\n",
    "d1"
   ]
  },
  {
   "cell_type": "markdown",
   "metadata": {},
   "source": [
    "> get random data for dataset 2"
   ]
  },
  {
   "cell_type": "code",
   "execution_count": null,
   "metadata": {},
   "outputs": [],
   "source": [
    "# set seed\n",
    "random.seed(237)\n",
    "\n",
    "# pick random numbers between 0 and 9\n",
    "d2 = [random.randint(low=0,high=10) for i in range(9)]\n",
    "\n",
    "# print\n",
    "d2"
   ]
  },
  {
   "cell_type": "markdown",
   "metadata": {},
   "source": [
    "> create dataframes for both datasets"
   ]
  },
  {
   "cell_type": "code",
   "execution_count": null,
   "metadata": {},
   "outputs": [],
   "source": [
    "df1 = pd.dataframe(d1, columns=['id'])\n",
    "df2 = pd.dataframe(d2, columns=['id'])"
   ]
  },
  {
   "cell_type": "markdown",
   "metadata": {},
   "source": [
    "> inner join on df1 and df2"
   ]
  },
  {
   "cell_type": "code",
   "execution_count": null,
   "metadata": {},
   "outputs": [],
   "source": [
    "# hint: uses one pandas function and fits in one line of code\n",
    "final = ENTER MISSING CODE HERE"
   ]
  },
  {
   "cell_type": "markdown",
   "metadata": {},
   "source": [
    "# secret code!"
   ]
  },
  {
   "cell_type": "code",
   "execution_count": null,
   "metadata": {},
   "outputs": [],
   "source": [
    "final.drop_duplicates()"
   ]
  },
  {
   "cell_type": "markdown",
   "metadata": {},
   "source": [
    "### If you completed the exercise successfully, CONGRATS!\n",
    "\n",
    "* you now have experience using numpy to generate random numbers\n",
    "* you can generate Python list comprehensions like a boss\n",
    "* you know how to create dataframes from a Python list\n",
    "* you can perform sql like operations in pandas  \n",
    "\n",
    "> If you are still having issues with the exercice, a **video explaining** every line of code and **the solution** can be found in the [Hedaro online store](https://gumroad.com/products/FPgAD).\n",
    "\n",
    " "
   ]
  },
  {
   "cell_type": "markdown",
   "metadata": {},
   "source": [
    "<p class=\"text-muted\">This tutorial was created by <a href=\"http://www.hedaro.com\" target=\"_blank\"><strong>HEDARO</strong></a></p>"
   ]
  }
 ],
 "metadata": {
  "anaconda-cloud": {},
  "kernelspec": {
   "display_name": "Python 3 (ipykernel)",
   "language": "python",
   "name": "python3"
  },
  "language_info": {
   "codemirror_mode": {
    "name": "ipython",
    "version": 3
   },
   "file_extension": ".py",
   "mimetype": "text/x-python",
   "name": "python",
   "nbconvert_exporter": "python",
   "pygments_lexer": "ipython3",
   "version": "3.9.12"
  }
 },
 "nbformat": 4,
 "nbformat_minor": 1
}
